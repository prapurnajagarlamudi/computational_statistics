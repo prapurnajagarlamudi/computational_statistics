{
 "cells": [
  {
   "cell_type": "code",
   "execution_count": 21,
   "id": "17c4978a",
   "metadata": {},
   "outputs": [
    {
     "name": "stdout",
     "output_type": "stream",
     "text": [
      "x1: -5 -4 -1 2 2 3 3 \n",
      "x2: 5 4 1 -3 -2 -2 -3\n",
      "y: 11 11 8 2 5 5 4\n",
      "x\n",
      " [[ 1 -5  5]\n",
      " [ 1 -4  4]\n",
      " [ 1 -1  1]\n",
      " [ 1  2 -3]\n",
      " [ 1  2 -2]\n",
      " [ 1  3 -2]\n",
      " [ 1  3 -3]]\n",
      "y\n",
      " [[11]\n",
      " [11]\n",
      " [ 8]\n",
      " [ 2]\n",
      " [ 5]\n",
      " [ 5]\n",
      " [ 4]]\n",
      "xTx\n",
      " [[  7   0   0]\n",
      " [  0  68 -67]\n",
      " [  0 -67  68]]\n",
      "xTx-1\n",
      " [[0.14285714 0.         0.        ]\n",
      " [0.         0.5037037  0.4962963 ]\n",
      " [0.         0.4962963  0.5037037 ]]\n",
      "xTy\n",
      " [[ 46]\n",
      " [-66]\n",
      " [ 69]]\n",
      "b^\n",
      " [[6.57142857]\n",
      " [1.        ]\n",
      " [2.        ]]\n",
      "y^ [[11.57142857]\n",
      " [10.57142857]\n",
      " [ 7.57142857]\n",
      " [ 2.57142857]\n",
      " [ 4.57142857]\n",
      " [ 5.57142857]\n",
      " [ 3.57142857]]\n",
      "E\n",
      " [[-0.57142857]\n",
      " [ 0.42857143]\n",
      " [ 0.42857143]\n",
      " [-0.57142857]\n",
      " [ 0.42857143]\n",
      " [-0.57142857]\n",
      " [ 0.42857143]]\n"
     ]
    }
   ],
   "source": [
    "import numpy as np\n",
    "\n",
    "#reading inputs\n",
    "x1=list(map(int,input(\"x1: \").split()))\n",
    "x2=list(map(int,input(\"x2: \").split()))\n",
    "y=list(map(int,input(\"y: \").split()))\n",
    "a=[]\n",
    "for i in range(len(y)):\n",
    "    a.append(1)\n",
    "x=np.matrix([a,x1,x2])\n",
    "x=x.T\n",
    "y=np.matrix(y)\n",
    "y=y.T\n",
    "\n",
    "#x matrix\n",
    "x=np.array(x)\n",
    "print(\"x\\n\",x)\n",
    "\n",
    "#y matrix\n",
    "print(\"y\\n\",y)\n",
    "\n",
    "xtx=np.dot(x.T,x)\n",
    "print(\"xTx\\n\",xtx)\n",
    "\n",
    "xtxinverse=np.linalg.inv(xtx)\n",
    "print(\"xTx-1\\n\",xtxinverse)\n",
    "\n",
    "y=np.matrix(y)\n",
    "xty=np.dot(x.T,y)\n",
    "print(\"xTy\\n\",xty)\n",
    "\n",
    "bcap=np.dot(xtxinverse,xty)\n",
    "print(\"b^\\n\",bcap)\n",
    "\n",
    "yhat=bcap[0]+(bcap[1]*x1)+(bcap[2]*x2)\n",
    "yhat=yhat.T\n",
    "print(\"y^\",yhat)\n",
    "\n",
    "error=np.subtract(y,yhat)\n",
    "print(\"E\\n\",error)"
   ]
  },
  {
   "cell_type": "code",
   "execution_count": 23,
   "id": "d8046ab8",
   "metadata": {},
   "outputs": [
    {
     "name": "stdout",
     "output_type": "stream",
     "text": [
      "xTx\n",
      " [[  7   0   0]\n",
      " [  0  68 -67]\n",
      " [  0 -67  68]]\n",
      "xTx-1\n",
      " [[0.14285714 0.         0.        ]\n",
      " [0.         0.5037037  0.4962963 ]\n",
      " [0.         0.4962963  0.5037037 ]]\n",
      "xTy\n",
      " [[ 46]\n",
      " [-66]\n",
      " [ 69]]\n",
      "b^\n",
      " [[6.57142857]\n",
      " [1.        ]\n",
      " [2.        ]]\n",
      "y^ [[11.57142857]\n",
      " [10.57142857]\n",
      " [ 7.57142857]\n",
      " [ 2.57142857]\n",
      " [ 4.57142857]\n",
      " [ 5.57142857]\n",
      " [ 3.57142857]]\n",
      "E\n",
      " [[-0.57142857]\n",
      " [ 0.42857143]\n",
      " [ 0.42857143]\n",
      " [-0.57142857]\n",
      " [ 0.42857143]\n",
      " [-0.57142857]\n",
      " [ 0.42857143]]\n"
     ]
    }
   ],
   "source": [
    "xtx=np.dot(x.T,x)\n",
    "print(\"xTx\\n\",xtx)\n",
    "\n",
    "xtxinverse=np.linalg.inv(xtx)\n",
    "print(\"xTx-1\\n\",xtxinverse)\n",
    "\n",
    "y=np.matrix(y)\n",
    "xty=np.dot(x.T,y)\n",
    "print(\"xTy\\n\",xty)\n",
    "\n",
    "bcap=np.dot(xtxinverse,xty)\n",
    "print(\"b^\\n\",bcap)\n",
    "\n",
    "yhat=bcap[0]+(bcap[1]*x1)+(bcap[2]*x2)\n",
    "yhat=yhat.T\n",
    "print(\"y^\",yhat)\n",
    "\n",
    "error=np.subtract(y,yhat)\n",
    "print(\"E\\n\",error)"
   ]
  },
  {
   "cell_type": "code",
   "execution_count": 24,
   "id": "be9c02bd",
   "metadata": {},
   "outputs": [
    {
     "name": "stdout",
     "output_type": "stream",
     "text": [
      "SSE = 1.7142857142857144\n",
      "ybar = 6.571428571428571\n",
      "SST = 73.71428571428571\n"
     ]
    }
   ],
   "source": [
    "# goodness of fit using anova\n",
    "#sum of squares due to error\n",
    "error=np.square(error)\n",
    "sse=np.sum(error)\n",
    "print(\"SSE =\",sse)\n",
    "\n",
    "#sum of squares due to total\n",
    "ybar=np.mean(y)\n",
    "print(\"ybar =\",ybar)\n",
    "y1=np.subtract(y,ybar)\n",
    "y11= np.square(y1)\n",
    "sst=np.sum(y11)\n",
    "print(\"SST =\",sst)"
   ]
  },
  {
   "cell_type": "code",
   "execution_count": 25,
   "id": "2ccb4009",
   "metadata": {},
   "outputs": [
    {
     "name": "stdout",
     "output_type": "stream",
     "text": [
      "R^2 = 0.9767441860465117\n",
      "We accept H0\n"
     ]
    }
   ],
   "source": [
    "#coefficient of determination\n",
    "r2=ssr/sst\n",
    "print(\"R^2 =\",r2)\n",
    "\n",
    "if(r2>0.90):\n",
    "    print(\"We accept H0\")\n",
    "else:\n",
    "    print(\"We reject H0\")"
   ]
  },
  {
   "cell_type": "code",
   "execution_count": 28,
   "id": "02dcef15",
   "metadata": {},
   "outputs": [
    {
     "name": "stdout",
     "output_type": "stream",
     "text": [
      "Enter the value of level of significance0.05\n",
      "  source of variation  sum of squares  Degrees of freedom Mean sum of Squares  \\\n",
      "0          regression       72.000000                   2                36.0   \n",
      "1               error        1.714286                   4            0.428571   \n",
      "2               total       73.714286                   6                       \n",
      "\n",
      "  Variance Ratio  \n",
      "0                 \n",
      "1           84.0  \n",
      "2                 \n",
      "Fcal= 84.0\n"
     ]
    }
   ],
   "source": [
    "# goodness of fit using anova\n",
    "#Anova one-way classification table\n",
    "alpha=float(input(\"Enter the value of level of significance\"))\n",
    "p=3\n",
    "n=len(y)\n",
    "import pandas as pd\n",
    "df=pd.read_excel(\"C:\\\\Users\\\\exam2\\\\Desktop\\\\book1.xlsx\")\n",
    "sof=[ssr,sse,sst]\n",
    "df['sum of squares']=sof\n",
    "dof=[p-1,n-p,n-1]\n",
    "df['Degrees of freedom']=dof\n",
    "msos=[sof[0]/dof[0],sof[1]/dof[1],'']\n",
    "df['Mean sum of Squares']=msos\n",
    "Fcal=msos[0]/msos[1]\n",
    "vr=['',Fcal,'']\n",
    "df['Variance Ratio']=vr\n",
    "print(df)\n",
    "print(\"Fcal=\",Fcal)"
   ]
  },
  {
   "cell_type": "code",
   "execution_count": 29,
   "id": "3562571f",
   "metadata": {},
   "outputs": [
    {
     "name": "stdout",
     "output_type": "stream",
     "text": [
      "Ftv= 6.944271909999155\n",
      "We Reject Ho\n",
      "Fcal-b= F_onewayResult(statistic=0.30882352941176483, pvalue=0.7381241403386867)\n"
     ]
    }
   ],
   "source": [
    "#Inference\n",
    "import scipy.stats as s\n",
    "Ftv=s.f.ppf(1-alpha,p-1,n-p)\n",
    "print(\"Ftv=\",Ftv)\n",
    "if Fcal <= Ftv:\n",
    "    print(\"We Accept Ho\")\n",
    "else:\n",
    "    print(\"We Reject Ho\")\n",
    "    \n",
    "#Calculating F value using Built in Functionk\n",
    "import scipy.stats \n",
    "Fb=scipy.stats.f_oneway(a,x1,x2)\n",
    "print(\"Fcal-b=\",Fb)"
   ]
  },
  {
   "cell_type": "code",
   "execution_count": null,
   "id": "78257309",
   "metadata": {},
   "outputs": [],
   "source": []
  }
 ],
 "metadata": {
  "kernelspec": {
   "display_name": "Python 3 (ipykernel)",
   "language": "python",
   "name": "python3"
  },
  "language_info": {
   "codemirror_mode": {
    "name": "ipython",
    "version": 3
   },
   "file_extension": ".py",
   "mimetype": "text/x-python",
   "name": "python",
   "nbconvert_exporter": "python",
   "pygments_lexer": "ipython3",
   "version": "3.9.7"
  }
 },
 "nbformat": 4,
 "nbformat_minor": 5
}
