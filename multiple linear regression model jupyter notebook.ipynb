{
 "cells": [
  {
   "cell_type": "code",
   "execution_count": 8,
   "metadata": {},
   "outputs": [
    {
     "name": "stdout",
     "output_type": "stream",
     "text": [
      "x1: -5 -4 -1 2 2 3 3 \n",
      "x2: 5 4 1 -3 -2 -2 -3\n",
      "y: 11 11 8 2 5 5 4\n",
      "[[ 1 -5  5]\n",
      " [ 1 -4  4]\n",
      " [ 1 -1  1]\n",
      " [ 1  2 -3]\n",
      " [ 1  2 -2]\n",
      " [ 1  3 -2]\n",
      " [ 1  3 -3]]\n"
     ]
    }
   ],
   "source": [
    "import numpy as np\n",
    "x1=list(map(int,input(\"x1: \").split()))\n",
    "x2=list(map(int,input(\"x2: \").split()))\n",
    "y=list(map(int,input(\"y: \").split()))\n",
    "a=[]\n",
    "for i in range(len(y)):\n",
    "    a.append(1)\n",
    "x=np.matrix([a,x1,x2])\n",
    "print(x.T)\n",
    "x=x.T\n",
    "y=np.matrix(y)\n",
    "y=y.T"
   ]
  },
  {
   "cell_type": "code",
   "execution_count": 61,
   "metadata": {},
   "outputs": [
    {
     "name": "stdout",
     "output_type": "stream",
     "text": [
      "[[ 1 -5  5]\n",
      " [ 1 -4  4]\n",
      " [ 1 -1  1]\n",
      " [ 1  2 -3]\n",
      " [ 1  2 -2]\n",
      " [ 1  3 -2]\n",
      " [ 1  3 -3]]\n"
     ]
    }
   ],
   "source": [
    "x=np.array(x)\n",
    "print(x)"
   ]
  },
  {
   "cell_type": "code",
   "execution_count": 9,
   "metadata": {},
   "outputs": [],
   "source": [
    "xtx=np.dot(x.T,x)"
   ]
  },
  {
   "cell_type": "code",
   "execution_count": 10,
   "metadata": {},
   "outputs": [
    {
     "name": "stdout",
     "output_type": "stream",
     "text": [
      "[[  7   0   0]\n",
      " [  0  68 -67]\n",
      " [  0 -67  68]]\n",
      "[[0.14285714 0.         0.        ]\n",
      " [0.         0.5037037  0.4962963 ]\n",
      " [0.         0.4962963  0.5037037 ]]\n"
     ]
    }
   ],
   "source": [
    "print(xtx)\n",
    "xtxinverse=np.linalg.inv(xtx)\n",
    "print(xtxinverse)"
   ]
  },
  {
   "cell_type": "code",
   "execution_count": 11,
   "metadata": {},
   "outputs": [
    {
     "name": "stdout",
     "output_type": "stream",
     "text": [
      "[[ 46]\n",
      " [-66]\n",
      " [ 69]]\n"
     ]
    }
   ],
   "source": [
    "y=np.matrix(y)\n",
    "abc=np.dot(x.T,y)\n",
    "print(abc)"
   ]
  },
  {
   "cell_type": "code",
   "execution_count": 16,
   "metadata": {},
   "outputs": [
    {
     "name": "stdout",
     "output_type": "stream",
     "text": [
      "[[6.57142857]\n",
      " [1.        ]\n",
      " [2.        ]]\n"
     ]
    }
   ],
   "source": [
    "xtxinxty=np.dot(xtxinverse,abc)\n",
    "print(xtxinxty)"
   ]
  },
  {
   "cell_type": "code",
   "execution_count": 66,
   "metadata": {},
   "outputs": [
    {
     "name": "stdout",
     "output_type": "stream",
     "text": [
      "<class 'numpy.matrix'>\n",
      "[[11.57142857]\n",
      " [10.57142857]\n",
      " [ 7.57142857]\n",
      " [ 2.57142857]\n",
      " [ 4.57142857]\n",
      " [ 5.57142857]\n",
      " [ 3.57142857]]\n"
     ]
    }
   ],
   "source": [
    "yhat=xtxinxty[0]+(xtxinxty[1]*x1)+(xtxinxty[2]*x2)\n",
    "yhat=yhat.T\n",
    "print(yhat)"
   ]
  },
  {
   "cell_type": "code",
   "execution_count": 113,
   "metadata": {},
   "outputs": [],
   "source": [
    "error=np.subtract(y,yhat)"
   ]
  },
  {
   "cell_type": "code",
   "execution_count": 114,
   "metadata": {},
   "outputs": [
    {
     "name": "stdout",
     "output_type": "stream",
     "text": [
      "[[-0.57142857]\n",
      " [ 0.42857143]\n",
      " [ 0.42857143]\n",
      " [-0.57142857]\n",
      " [ 0.42857143]\n",
      " [-0.57142857]\n",
      " [ 0.42857143]]\n"
     ]
    }
   ],
   "source": [
    "print(error)"
   ]
  },
  {
   "cell_type": "code",
   "execution_count": 115,
   "metadata": {},
   "outputs": [
    {
     "name": "stdout",
     "output_type": "stream",
     "text": [
      "SSE = 1.7142857142857144\n"
     ]
    }
   ],
   "source": [
    "#sum of squares due to error\n",
    "error=np.square(error)\n",
    "sse=np.sum(error)\n",
    "print(\"SSE =\",sse)"
   ]
  },
  {
   "cell_type": "code",
   "execution_count": 116,
   "metadata": {},
   "outputs": [
    {
     "name": "stdout",
     "output_type": "stream",
     "text": [
      "ybar = 6.571428571428571\n",
      "SST = 73.71428571428571\n"
     ]
    }
   ],
   "source": [
    "#sum of squares due to total\n",
    "ybar=np.mean(y)\n",
    "print(\"ybar =\",ybar)\n",
    "y1=np.subtract(y,ybar)\n",
    "y11= np.square(y1)\n",
    "sst=np.sum(y11)\n",
    "print(\"SST =\",sst)"
   ]
  },
  {
   "cell_type": "code",
   "execution_count": 117,
   "metadata": {},
   "outputs": [
    {
     "name": "stdout",
     "output_type": "stream",
     "text": [
      "SSR = 72.0\n"
     ]
    }
   ],
   "source": [
    "#sum of squares due to regression\n",
    "ssr=sst-sse\n",
    "print(\"SSR =\",ssr)"
   ]
  },
  {
   "cell_type": "code",
   "execution_count": 118,
   "metadata": {},
   "outputs": [
    {
     "name": "stdout",
     "output_type": "stream",
     "text": [
      "R^2 = 0.9767441860465117\n"
     ]
    }
   ],
   "source": [
    "#coefficient of determination\n",
    "r2=ssr/sst\n",
    "print(\"R^2 =\",r2)"
   ]
  },
  {
   "cell_type": "code",
   "execution_count": 119,
   "metadata": {},
   "outputs": [
    {
     "name": "stdout",
     "output_type": "stream",
     "text": [
      "We accept H0\n"
     ]
    }
   ],
   "source": [
    "if(r2>0.90):\n",
    "    print(\"We accept H0\")\n",
    "else:\n",
    "    print(\"We reject H0\")"
   ]
  },
  {
   "cell_type": "code",
   "execution_count": null,
   "metadata": {},
   "outputs": [],
   "source": []
  }
 ],
 "metadata": {
  "kernelspec": {
   "display_name": "Python 3",
   "language": "python",
   "name": "python3"
  },
  "language_info": {
   "codemirror_mode": {
    "name": "ipython",
    "version": 3
   },
   "file_extension": ".py",
   "mimetype": "text/x-python",
   "name": "python",
   "nbconvert_exporter": "python",
   "pygments_lexer": "ipython3",
   "version": "3.8.5"
  }
 },
 "nbformat": 4,
 "nbformat_minor": 4
}
