{
 "cells": [
  {
   "cell_type": "code",
   "execution_count": 1,
   "id": "2c2ff81a",
   "metadata": {},
   "outputs": [],
   "source": [
    " def create(r,c,m):\n",
    "  m = []\n",
    "  for i in range(r):          \n",
    "    a=[]\n",
    "    for j in range(c): \n",
    "        t=0    \n",
    "        a.append(t)\n",
    "    m.append(a)\n",
    "  return m"
   ]
  },
  {
   "cell_type": "code",
   "execution_count": 2,
   "id": "d16f14a7",
   "metadata": {},
   "outputs": [],
   "source": [
    "#transpose matrix\n",
    "def transpose(m):\n",
    "  trn=[]\n",
    "  for j in range(m[0]):\n",
    "      b=[]\n",
    "      for i in range(len(m)):\n",
    "         b.append(m[i][j])\n",
    "      trn.append(b)\n",
    "  return trn"
   ]
  },
  {
   "cell_type": "code",
   "execution_count": 3,
   "id": "a04e2acd",
   "metadata": {},
   "outputs": [],
   "source": [
    "#matrix printing\n",
    "def matrix(matx):\n",
    "  for i in range(len(m)):\n",
    "    for j in range(len(matx[0])):\n",
    "        print(matx[i][j], end = \" \")\n",
    "    print()"
   ]
  },
  {
   "cell_type": "code",
   "execution_count": null,
   "id": "487d00c4",
   "metadata": {},
   "outputs": [],
   "source": [
    "#matrix multliplication\n",
    "def mul(ma,mb):\n",
    "  m1=[]\n",
    "  mat=create(r,c,m1)\n",
    "  for i in range(len(ma)):\n",
    "      for j in range(len(mb[0])):\n",
    "          for k in range(len(mb)):\n",
    "              mat[i][j]=mat[i][j]+ma[i][k]*mb[k][j]\n",
    "  return mat"
   ]
  },
  {
   "cell_type": "code",
   "execution_count": 4,
   "id": "7db30776",
   "metadata": {},
   "outputs": [],
   "source": [
    "#minor\n",
    "def minor(m,i,j):\n",
    "    return [row[:j] + row[j+1:] for row in (m[:i]+m[i+1:])]"
   ]
  },
  {
   "cell_type": "code",
   "execution_count": 5,
   "id": "8fdc7775",
   "metadata": {},
   "outputs": [],
   "source": [
    "#determinent\n",
    "def determinent(a1):\n",
    "  if len(a1)==2:\n",
    "    return a1[0][0]*a1[1][1]-a1[0][1]*a1[1][0]\n",
    "  sum=0\n",
    "  for i in range(len(a1)):\n",
    "    sum+=((-1)**i)*a1[0][i]*determinent(minor(a1,0,i))\n",
    "  return sum"
   ]
  },
  {
   "cell_type": "code",
   "execution_count": 6,
   "id": "86f7fd97",
   "metadata": {},
   "outputs": [],
   "source": [
    "#inverse \n",
    "def inverse(a1):\n",
    "  if len(a1)==2:\n",
    "    return [[a1[1][1]/determinent(a1),(-1)*a1[1][0]/determinent(a1)],\n",
    "                                  [(-1)*a1[0][1]/determinent(a1),a1[0][0]/determinent(a1)]]\n",
    "  cofactors=[]\n",
    "  for i in range(len(a1)):\n",
    "    cofact=[]\n",
    "    for j in range(len(a1)):\n",
    "      cofact.append((-1)**(i+j)*determinent(minor(a1,i,j)))\n",
    "    cofactors.append(cofact)\n",
    "  k=transpose(cofactors)\n",
    "  for i in range(len(a1)):\n",
    "    for j in range(len(a1)):\n",
    "      k[i][j]=k[i][j]/determinent(a1)\n",
    "  return k"
   ]
  },
  {
   "cell_type": "code",
   "execution_count": null,
   "id": "45b66fe3",
   "metadata": {},
   "outputs": [],
   "source": [
    "transpose(create(2,2,m))"
   ]
  },
  {
   "cell_type": "code",
   "execution_count": null,
   "id": "0c221506",
   "metadata": {},
   "outputs": [],
   "source": []
  },
  {
   "cell_type": "code",
   "execution_count": null,
   "id": "d9bf4f45",
   "metadata": {},
   "outputs": [],
   "source": []
  },
  {
   "cell_type": "code",
   "execution_count": null,
   "id": "843fb233",
   "metadata": {},
   "outputs": [],
   "source": []
  }
 ],
 "metadata": {
  "kernelspec": {
   "display_name": "Python 3 (ipykernel)",
   "language": "python",
   "name": "python3"
  },
  "language_info": {
   "codemirror_mode": {
    "name": "ipython",
    "version": 3
   },
   "file_extension": ".py",
   "mimetype": "text/x-python",
   "name": "python",
   "nbconvert_exporter": "python",
   "pygments_lexer": "ipython3",
   "version": "3.9.7"
  }
 },
 "nbformat": 4,
 "nbformat_minor": 5
}
